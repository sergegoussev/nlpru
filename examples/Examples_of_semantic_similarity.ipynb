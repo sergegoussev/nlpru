{
 "cells": [
  {
   "cell_type": "markdown",
   "metadata": {},
   "source": [
    "# Example of how to use the semantic similarity method\n",
    "\n",
    "A common way to determine if there is similarity between one body of text and another is to convert the text into vector space, and compute the cosine similarity between the two vectors.\n",
    "  \n",
    "This approach involves extracting the words (a bag-of-words approach), and constructing a vector with each word as a dimention for the vector. The vector is normalized using the term-frequency inverse term frequency approach (to standardize the quantity of times a word might occur). \n",
    "\n",
    "![diagram](http://blog.christianperone.com/wp-content/uploads/2013/09/cosinesimilarityfq1.png)\n",
    "> *(Source of image: Christian S. Perone, blog: http://blog.christianperone.com/2013/09/machine-learning-cosine-similarity-for-vector-space-models-part-iii/)*\n",
    "\n",
    "The similarity of the resultant vectors can be compared using their cosine (hence degree): \n",
    " - if angle is small, then the two are very close;\n",
    " - if the angle is radically different, it will reveal that the cosine similarity is much smaller than 1\n",
    "\n",
    "------------------\n",
    "\n",
    "The below example demonstrates how this can be done using **`nlpru.Semantics.Get_similarity()`** method:\n",
    "* first we connect to and extract data from a data warehouse of concatenated tweets from 2 separate communities; \n",
    "* visualize the data\n",
    "* compute sentiment similarity and plot the response"
   ]
  },
  {
   "cell_type": "code",
   "execution_count": 21,
   "metadata": {},
   "outputs": [],
   "source": [
    "from nlpru import Semantics\n",
    "from pysqlc import DB\n",
    "import pandas as pd\n",
    "\n",
    "import matplotlib.pyplot as plt\n",
    "from matplotlib import style\n",
    "# style.use('fivethirtyeight')\n",
    "\n",
    "db = DB(database='kremlin_protests_dw')"
   ]
  },
  {
   "cell_type": "code",
   "execution_count": 47,
   "metadata": {},
   "outputs": [],
   "source": [
    "q = \"\"\"\n",
    "SELECT \n",
    "    id,\n",
    "    day_and_hour,\n",
    "    comm_0_text,\n",
    "    comm_1_text\n",
    "FROM kremlin_protests_dw.similarity_communities_0and1_mar26_rest\n",
    "LIMIT 24\n",
    "\"\"\"\n",
    "data = db.query(q)\n",
    "df = pd.DataFrame(data, columns=['id','day_and_hour','comm_0_text','comm_1_text'])"
   ]
  },
  {
   "cell_type": "code",
   "execution_count": 48,
   "metadata": {},
   "outputs": [
    {
     "data": {
      "text/html": [
       "<div>\n",
       "<style scoped>\n",
       "    .dataframe tbody tr th:only-of-type {\n",
       "        vertical-align: middle;\n",
       "    }\n",
       "\n",
       "    .dataframe tbody tr th {\n",
       "        vertical-align: top;\n",
       "    }\n",
       "\n",
       "    .dataframe thead th {\n",
       "        text-align: right;\n",
       "    }\n",
       "</style>\n",
       "<table border=\"1\" class=\"dataframe\">\n",
       "  <thead>\n",
       "    <tr style=\"text-align: right;\">\n",
       "      <th></th>\n",
       "      <th>id</th>\n",
       "      <th>day_and_hour</th>\n",
       "      <th>comm_0_text</th>\n",
       "      <th>comm_1_text</th>\n",
       "    </tr>\n",
       "  </thead>\n",
       "  <tbody>\n",
       "    <tr>\n",
       "      <th>0</th>\n",
       "      <td>1</td>\n",
       "      <td>2017-03-26 00:00:00</td>\n",
       "      <td>https://t.co/sfcR8Cidlp Навальный работает на ...</td>\n",
       "      <td>Валентин Ведюков  /  / Алексей Навальный стоит...</td>\n",
       "    </tr>\n",
       "    <tr>\n",
       "      <th>1</th>\n",
       "      <td>2</td>\n",
       "      <td>2017-03-26 01:00:00</td>\n",
       "      <td>Мне понравилось видео \"Реакция Медведева на ра...</td>\n",
       "      <td>В чем проблема показать доход в виде грантов? ...</td>\n",
       "    </tr>\n",
       "    <tr>\n",
       "      <th>2</th>\n",
       "      <td>3</td>\n",
       "      <td>2017-03-26 10:00:00</td>\n",
       "      <td>@b_pilatus а где собаки, перечный газ и водомё...</td>\n",
       "      <td>@VictorKvert2008   к параду коррупции готовы Г...</td>\n",
       "    </tr>\n",
       "    <tr>\n",
       "      <th>3</th>\n",
       "      <td>4</td>\n",
       "      <td>2017-03-26 11:00:00</td>\n",
       "      <td>@mkomsomolets ДимонОтветит. Митинги 26 марта п...</td>\n",
       "      <td>Пока мусоров и чекистов не начнут истеблять пр...</td>\n",
       "    </tr>\n",
       "    <tr>\n",
       "      <th>4</th>\n",
       "      <td>5</td>\n",
       "      <td>2017-03-26 12:00:00</td>\n",
       "      <td>Полиция в Москве задержала Алексея Навального ...</td>\n",
       "      <td>Сочи, комсомольский сквер, полиция говорит, чт...</td>\n",
       "    </tr>\n",
       "  </tbody>\n",
       "</table>\n",
       "</div>"
      ],
      "text/plain": [
       "   id        day_and_hour                                        comm_0_text  \\\n",
       "0   1 2017-03-26 00:00:00  https://t.co/sfcR8Cidlp Навальный работает на ...   \n",
       "1   2 2017-03-26 01:00:00  Мне понравилось видео \"Реакция Медведева на ра...   \n",
       "2   3 2017-03-26 10:00:00  @b_pilatus а где собаки, перечный газ и водомё...   \n",
       "3   4 2017-03-26 11:00:00  @mkomsomolets ДимонОтветит. Митинги 26 марта п...   \n",
       "4   5 2017-03-26 12:00:00  Полиция в Москве задержала Алексея Навального ...   \n",
       "\n",
       "                                         comm_1_text  \n",
       "0  Валентин Ведюков  /  / Алексей Навальный стоит...  \n",
       "1  В чем проблема показать доход в виде грантов? ...  \n",
       "2  @VictorKvert2008   к параду коррупции готовы Г...  \n",
       "3  Пока мусоров и чекистов не начнут истеблять пр...  \n",
       "4  Сочи, комсомольский сквер, полиция говорит, чт...  "
      ]
     },
     "execution_count": 48,
     "metadata": {},
     "output_type": "execute_result"
    }
   ],
   "source": [
    "df.head()"
   ]
  },
  {
   "cell_type": "code",
   "execution_count": 49,
   "metadata": {},
   "outputs": [],
   "source": [
    "S = Semantics()"
   ]
  },
  {
   "cell_type": "code",
   "execution_count": 50,
   "metadata": {
    "scrolled": true
   },
   "outputs": [],
   "source": [
    "result = []\n",
    "for row in data:\n",
    "    sim = S.Get_similarity(\n",
    "        docs_list = [row[2],row[3]],\n",
    "        use_normal_form=False,\n",
    "        clean_documents=True\n",
    "    ).tolist()\n",
    "    result.append((row[1],sim[0][1]))"
   ]
  },
  {
   "cell_type": "code",
   "execution_count": 51,
   "metadata": {},
   "outputs": [
    {
     "data": {
      "text/html": [
       "<div>\n",
       "<style scoped>\n",
       "    .dataframe tbody tr th:only-of-type {\n",
       "        vertical-align: middle;\n",
       "    }\n",
       "\n",
       "    .dataframe tbody tr th {\n",
       "        vertical-align: top;\n",
       "    }\n",
       "\n",
       "    .dataframe thead th {\n",
       "        text-align: right;\n",
       "    }\n",
       "</style>\n",
       "<table border=\"1\" class=\"dataframe\">\n",
       "  <thead>\n",
       "    <tr style=\"text-align: right;\">\n",
       "      <th></th>\n",
       "      <th>cosine similarity</th>\n",
       "    </tr>\n",
       "    <tr>\n",
       "      <th>datetime</th>\n",
       "      <th></th>\n",
       "    </tr>\n",
       "  </thead>\n",
       "  <tbody>\n",
       "    <tr>\n",
       "      <th>2017-03-26 00:00:00</th>\n",
       "      <td>0.168211</td>\n",
       "    </tr>\n",
       "    <tr>\n",
       "      <th>2017-03-26 01:00:00</th>\n",
       "      <td>0.119728</td>\n",
       "    </tr>\n",
       "    <tr>\n",
       "      <th>2017-03-26 10:00:00</th>\n",
       "      <td>0.842527</td>\n",
       "    </tr>\n",
       "    <tr>\n",
       "      <th>2017-03-26 11:00:00</th>\n",
       "      <td>0.875586</td>\n",
       "    </tr>\n",
       "    <tr>\n",
       "      <th>2017-03-26 12:00:00</th>\n",
       "      <td>0.875147</td>\n",
       "    </tr>\n",
       "  </tbody>\n",
       "</table>\n",
       "</div>"
      ],
      "text/plain": [
       "                     cosine similarity\n",
       "datetime                              \n",
       "2017-03-26 00:00:00           0.168211\n",
       "2017-03-26 01:00:00           0.119728\n",
       "2017-03-26 10:00:00           0.842527\n",
       "2017-03-26 11:00:00           0.875586\n",
       "2017-03-26 12:00:00           0.875147"
      ]
     },
     "execution_count": 51,
     "metadata": {},
     "output_type": "execute_result"
    }
   ],
   "source": [
    "df_sim = pd.DataFrame(result, columns=['datetime','cosine similarity'])\n",
    "df_sim.set_index('datetime', inplace=True)\n",
    "df_sim.head()"
   ]
  },
  {
   "cell_type": "code",
   "execution_count": 52,
   "metadata": {},
   "outputs": [
    {
     "data": {
      "image/png": "[encoded data removed]",
      "text/plain": [
       "<Figure size 1080x540 with 1 Axes>"
      ]
     },
     "metadata": {
      "needs_background": "light"
     },
     "output_type": "display_data"
    }
   ],
   "source": [
    "chart_size = 15 \n",
    "df_sim.plot(linewidth=0.3*chart_size,\n",
    "         figsize=(chart_size, chart_size/2),\n",
    "        )\n",
    "plt.grid(True)\n",
    "# plt.title(\"Daily\", color='black')\n",
    "plt.xlabel(\"dates\", fontsize=chart_size)\n",
    "plt.ylabel(\"cosine similarity\", fontsize=chart_size)\n",
    "plt.legend(prop={'size':chart_size})\n",
    "plt.tick_params(axis='both', which='major', labelsize=chart_size)"
   ]
  }
 ],
 "metadata": {
  "kernelspec": {
   "display_name": "Python 3",
   "language": "python",
   "name": "python3"
  },
  "language_info": {
   "codemirror_mode": {
    "name": "ipython",
    "version": 3
   },
   "file_extension": ".py",
   "mimetype": "text/x-python",
   "name": "python",
   "nbconvert_exporter": "python",
   "pygments_lexer": "ipython3",
   "version": "3.6.8"
  }
 },
 "nbformat": 4,
 "nbformat_minor": 2
}

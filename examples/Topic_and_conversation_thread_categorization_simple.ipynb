{
 "cells": [
  {
   "cell_type": "markdown",
   "metadata": {},
   "source": [
    "# Topic Categorization + converstation thread effects - simple overview\n",
    "\n",
    "This workbook will show how tweets categorized by keywords can then be expanded to take convesation thread concepts into account. \n",
    "\n",
    "For a fuller walkthrough with real examples, see the workbooks on [categorization of topics](https://github.com/sergegoussev/nlpru/blob/master/examples/nlpru_topic_categorization_walkthrough.ipynb) and [topic Categorization with converstation thread effects](https://github.com/sergegoussev/nlpru/blob/master/examples/Categorizing_by_topic_using_conversation_threads.ipynb)."
   ]
  },
  {
   "cell_type": "code",
   "execution_count": 13,
   "metadata": {},
   "outputs": [],
   "source": [
    "from nlpru import FindTopics\n",
    "from nlpru import Conversations\n",
    "\n",
    "tweet_dict = {\n",
    "                '1':{'text':'вот почему б не указать'},     #on topic by keyword\n",
    "                '2':{'text':\"наш Самарский расследование\"}, #op topic by keyword\n",
    "                '3':{'text':\"вот он не бот\"},               \n",
    "                '4':{'text':'можно обратиться напрямую'},   #reply to 1 therefore on topic\n",
    "                '5':{'text':\"какое расследование\"},         #quote to 2, therefore on topic\n",
    "                '6':{'text':'обратиться ... напрямую'},     #quoting 4, a reply to topic, therefore on topic\n",
    "                '7':{'text':\"какое расследование\"}          #retweet of 4, a reply to topic, therefore on topic\n",
    "            }"
   ]
  },
  {
   "cell_type": "code",
   "execution_count": 14,
   "metadata": {},
   "outputs": [],
   "source": [
    "topic_dict = {\"topic 1\":[\"почему\", \"наш\"]}\n",
    "\n",
    "replies = [('4','1')]\n",
    "retweets = [('7','4')]\n",
    "quotes = [('6','1'),('5','2')]"
   ]
  },
  {
   "cell_type": "code",
   "execution_count": 15,
   "metadata": {},
   "outputs": [
    {
     "data": {
      "text/plain": [
       "{'1': {'clean_words': ['почему', 'указать'],\n",
       "  'text': 'вот почему б не указать',\n",
       "  'topic': 'topic 1'},\n",
       " '2': {'clean_words': ['наш', 'самарский', 'расследование'],\n",
       "  'text': 'наш Самарский расследование',\n",
       "  'topic': 'topic 1'},\n",
       " '3': {'clean_words': ['бот'],\n",
       "  'text': 'вот он не бот',\n",
       "  'topic': 'none detected'},\n",
       " '4': {'clean_words': ['обратиться', 'напрямую'],\n",
       "  'text': 'можно обратиться напрямую',\n",
       "  'topic': 'none detected'},\n",
       " '5': {'clean_words': ['какой', 'расследование'],\n",
       "  'text': 'какое расследование',\n",
       "  'topic': 'none detected'},\n",
       " '6': {'clean_words': ['обратиться', 'напрямую'],\n",
       "  'text': 'обратиться ... напрямую',\n",
       "  'topic': 'none detected'},\n",
       " '7': {'clean_words': ['какой', 'расследование'],\n",
       "  'text': 'какое расследование',\n",
       "  'topic': 'none detected'}}"
      ]
     },
     "execution_count": 15,
     "metadata": {},
     "output_type": "execute_result"
    }
   ],
   "source": [
    "T = FindTopics(tweet_dict=tweet_dict)\n",
    "r = T.Keyword_Match(topic_dict)\n",
    "r"
   ]
  },
  {
   "cell_type": "markdown",
   "metadata": {},
   "source": [
    "The basic method had categorized tweets `'1'` and `'2'` as on the topic"
   ]
  },
  {
   "cell_type": "code",
   "execution_count": 4,
   "metadata": {},
   "outputs": [
    {
     "name": "stdout",
     "output_type": "stream",
     "text": [
      "1 iteration completed, recategorized this round: 1\n",
      "2 iteration completed, recategorized this round: 0\n"
     ]
    },
    {
     "data": {
      "text/plain": [
       "{'1': {'clean_words': ['почему', 'указать'],\n",
       "  'text': 'вот почему б не указать',\n",
       "  'topic': 'topic 1'},\n",
       " '2': {'clean_words': ['наш', 'самарский', 'расследование'],\n",
       "  'text': 'наш Самарский расследование',\n",
       "  'topic': 'topic 1'},\n",
       " '3': {'clean_words': ['бот'],\n",
       "  'text': 'вот он не бот',\n",
       "  'topic': 'none detected'},\n",
       " '4': {'clean_words': ['обратиться', 'напрямую'],\n",
       "  'text': 'можно обратиться напрямую',\n",
       "  'topic': 'topic 1'},\n",
       " '5': {'clean_words': ['какой', 'расследование'],\n",
       "  'text': 'какое расследование',\n",
       "  'topic': 'none detected'},\n",
       " '6': {'clean_words': ['обратиться', 'напрямую'],\n",
       "  'text': 'обратиться ... напрямую',\n",
       "  'topic': 'none detected'},\n",
       " '7': {'clean_words': ['какой', 'расследование'],\n",
       "  'text': 'какое расследование',\n",
       "  'topic': 'none detected'}}"
      ]
     },
     "execution_count": 4,
     "metadata": {},
     "output_type": "execute_result"
    }
   ],
   "source": [
    "c = Conversations(reply_list=replies)\n",
    "t = c.Recategorize_topics(topic_for_which_to_check=\"topic 1\", tweet_dict=tweet_dict)\n",
    "t"
   ]
  },
  {
   "cell_type": "markdown",
   "metadata": {},
   "source": [
    "Taking into account the *replies*, `'4'` is also categorized as on the topic"
   ]
  },
  {
   "cell_type": "code",
   "execution_count": 9,
   "metadata": {},
   "outputs": [
    {
     "name": "stdout",
     "output_type": "stream",
     "text": [
      "1 iteration completed, recategorized this round: 2\n",
      "2 iteration completed, recategorized this round: 0\n"
     ]
    },
    {
     "data": {
      "text/plain": [
       "{'1': {'clean_words': ['почему', 'указать'],\n",
       "  'text': 'вот почему б не указать',\n",
       "  'topic': 'topic 1'},\n",
       " '2': {'clean_words': ['наш', 'самарский', 'расследование'],\n",
       "  'text': 'наш Самарский расследование',\n",
       "  'topic': 'topic 1'},\n",
       " '3': {'clean_words': ['бот'],\n",
       "  'text': 'вот он не бот',\n",
       "  'topic': 'none detected'},\n",
       " '4': {'clean_words': ['обратиться', 'напрямую'],\n",
       "  'text': 'можно обратиться напрямую',\n",
       "  'topic': 'topic 1'},\n",
       " '5': {'clean_words': ['какой', 'расследование'],\n",
       "  'text': 'какое расследование',\n",
       "  'topic': 'none detected'},\n",
       " '6': {'clean_words': ['обратиться', 'напрямую'],\n",
       "  'text': 'обратиться ... напрямую',\n",
       "  'topic': 'none detected'},\n",
       " '7': {'clean_words': ['какой', 'расследование'],\n",
       "  'text': 'какое расследование',\n",
       "  'topic': 'topic 1'}}"
      ]
     },
     "execution_count": 9,
     "metadata": {},
     "output_type": "execute_result"
    }
   ],
   "source": [
    "c = Conversations(reply_list=replies, retweet_list=retweets)\n",
    "t = c.Recategorize_topics(topic_for_which_to_check=\"topic 1\", tweet_dict=tweet_dict)\n",
    "t"
   ]
  },
  {
   "cell_type": "markdown",
   "metadata": {},
   "source": [
    "Taking *retweets* and *replies* into account now resulted in adding not just `'4'`, but also `'7'` as on the topic"
   ]
  },
  {
   "cell_type": "code",
   "execution_count": 12,
   "metadata": {},
   "outputs": [
    {
     "name": "stdout",
     "output_type": "stream",
     "text": [
      "1 iteration completed, recategorized this round: 4\n",
      "2 iteration completed, recategorized this round: 0\n"
     ]
    },
    {
     "data": {
      "text/plain": [
       "{'1': {'clean_words': ['почему', 'указать'],\n",
       "  'text': 'вот почему б не указать',\n",
       "  'topic': 'topic 1'},\n",
       " '2': {'clean_words': ['наш', 'самарский', 'расследование'],\n",
       "  'text': 'наш Самарский расследование',\n",
       "  'topic': 'topic 1'},\n",
       " '3': {'clean_words': ['бот'],\n",
       "  'text': 'вот он не бот',\n",
       "  'topic': 'none detected'},\n",
       " '4': {'clean_words': ['обратиться', 'напрямую'],\n",
       "  'text': 'можно обратиться напрямую',\n",
       "  'topic': 'topic 1'},\n",
       " '5': {'clean_words': ['какой', 'расследование'],\n",
       "  'text': 'какое расследование',\n",
       "  'topic': 'topic 1'},\n",
       " '6': {'clean_words': ['обратиться', 'напрямую'],\n",
       "  'text': 'обратиться ... напрямую',\n",
       "  'topic': 'topic 1'},\n",
       " '7': {'clean_words': ['какой', 'расследование'],\n",
       "  'text': 'какое расследование',\n",
       "  'topic': 'topic 1'}}"
      ]
     },
     "execution_count": 12,
     "metadata": {},
     "output_type": "execute_result"
    }
   ],
   "source": [
    "c = Conversations(reply_list=replies, retweet_list=retweets, quote_list=quotes)\n",
    "t = c.Recategorize_topics(topic_for_which_to_check=\"topic 1\", tweet_dict=tweet_dict)\n",
    "t"
   ]
  },
  {
   "cell_type": "markdown",
   "metadata": {},
   "source": [
    "Great! Now all but `'3'` are considred as part of **topic 1**"
   ]
  },
  {
   "cell_type": "code",
   "execution_count": 16,
   "metadata": {},
   "outputs": [
    {
     "name": "stdout",
     "output_type": "stream",
     "text": [
      "1 iteration completed, recategorized this round: 4\n",
      "2 iteration completed, recategorized this round: 0\n"
     ]
    },
    {
     "data": {
      "text/plain": [
       "{'1': {'clean_words': ['почему', 'указать'],\n",
       "  'text': 'вот почему б не указать',\n",
       "  'topic': 'topic 1'},\n",
       " '2': {'clean_words': ['наш', 'самарский', 'расследование'],\n",
       "  'text': 'наш Самарский расследование',\n",
       "  'topic': 'topic 1'},\n",
       " '3': {'clean_words': ['бот'],\n",
       "  'text': 'вот он не бот',\n",
       "  'topic': 'none detected'},\n",
       " '4': {'clean_words': ['обратиться', 'напрямую'],\n",
       "  'text': 'можно обратиться напрямую',\n",
       "  'topic': 'topic 1'},\n",
       " '5': {'clean_words': ['какой', 'расследование'],\n",
       "  'text': 'какое расследование',\n",
       "  'topic': 'topic 1'},\n",
       " '6': {'clean_words': ['обратиться', 'напрямую'],\n",
       "  'text': 'обратиться ... напрямую',\n",
       "  'topic': 'topic 1'},\n",
       " '7': {'clean_words': ['какой', 'расследование'],\n",
       "  'text': 'какое расследование',\n",
       "  'topic': 'topic 1'}}"
      ]
     },
     "execution_count": 16,
     "metadata": {},
     "output_type": "execute_result"
    }
   ],
   "source": [
    "c = Conversations(quote_list=quotes, retweet_list=retweets, reply_list=replies)\n",
    "t = c.Recategorize_topics(topic_for_which_to_check=\"topic 1\", tweet_dict=tweet_dict)\n",
    "t"
   ]
  },
  {
   "cell_type": "markdown",
   "metadata": {},
   "source": [
    "Changing the order of inputs also doesnt matter! All of them are recategorized correctly!"
   ]
  }
 ],
 "metadata": {
  "kernelspec": {
   "display_name": "Python 3",
   "language": "python",
   "name": "python3"
  },
  "language_info": {
   "codemirror_mode": {
    "name": "ipython",
    "version": 3
   },
   "file_extension": ".py",
   "mimetype": "text/x-python",
   "name": "python",
   "nbconvert_exporter": "python",
   "pygments_lexer": "ipython3",
   "version": "3.5.4"
  }
 },
 "nbformat": 4,
 "nbformat_minor": 2
}
